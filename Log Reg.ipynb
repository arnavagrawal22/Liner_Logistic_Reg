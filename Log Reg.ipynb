{
 "cells": [
  {
   "cell_type": "code",
   "execution_count": 1,
   "id": "279001dd",
   "metadata": {},
   "outputs": [],
   "source": [
    "import numpy as np\n",
    "import pandas as pd\n",
    "import matplotlib.pyplot as plt\n",
    "import seaborn as sns\n",
    "%matplotlib inline"
   ]
  },
  {
   "cell_type": "code",
   "execution_count": 2,
   "id": "4c845f26",
   "metadata": {},
   "outputs": [],
   "source": [
    "train = pd.read_csv('titanic-train.csv')"
   ]
  },
  {
   "cell_type": "code",
   "execution_count": 3,
   "id": "2b76e5a1",
   "metadata": {},
   "outputs": [],
   "source": [
    "train.drop(\"Cabin\",inplace=True,axis=1)"
   ]
  },
  {
   "cell_type": "code",
   "execution_count": 4,
   "id": "42374c37",
   "metadata": {},
   "outputs": [],
   "source": [
    "def add_age(cols):\n",
    "    Age = cols[0]\n",
    "    Pclass = cols[1]\n",
    "    if pd.isnull(Age):\n",
    "        return int(train[train[\"Pclass\"] == Pclass][\"Age\"].mean())\n",
    "    else:\n",
    "        return Age"
   ]
  },
  {
   "cell_type": "code",
   "execution_count": 5,
   "id": "ea148b5b",
   "metadata": {},
   "outputs": [],
   "source": [
    "train['Age']= train[[\"Age\", \"Pclass\"]].apply(add_age,axis=1)"
   ]
  },
  {
   "cell_type": "code",
   "execution_count": 6,
   "id": "ad6651b0",
   "metadata": {},
   "outputs": [],
   "source": [
    "train.dropna(inplace=True)"
   ]
  },
  {
   "cell_type": "code",
   "execution_count": 7,
   "id": "8dd9b0da",
   "metadata": {},
   "outputs": [
    {
     "name": "stdout",
     "output_type": "stream",
     "text": [
      "<class 'pandas.core.frame.DataFrame'>\n",
      "Int64Index: 889 entries, 0 to 890\n",
      "Data columns (total 11 columns):\n",
      " #   Column       Non-Null Count  Dtype  \n",
      "---  ------       --------------  -----  \n",
      " 0   PassengerId  889 non-null    int64  \n",
      " 1   Survived     889 non-null    int64  \n",
      " 2   Pclass       889 non-null    int64  \n",
      " 3   Name         889 non-null    object \n",
      " 4   Sex          889 non-null    object \n",
      " 5   Age          889 non-null    float64\n",
      " 6   SibSp        889 non-null    int64  \n",
      " 7   Parch        889 non-null    int64  \n",
      " 8   Ticket       889 non-null    object \n",
      " 9   Fare         889 non-null    float64\n",
      " 10  Embarked     889 non-null    object \n",
      "dtypes: float64(2), int64(5), object(4)\n",
      "memory usage: 83.3+ KB\n"
     ]
    }
   ],
   "source": [
    "train.info()"
   ]
  },
  {
   "cell_type": "code",
   "execution_count": 8,
   "id": "384007d8",
   "metadata": {},
   "outputs": [],
   "source": [
    "train['Sex'] = pd.get_dummies(train['Sex'],drop_first=True)"
   ]
  },
  {
   "cell_type": "code",
   "execution_count": 9,
   "id": "abe0020a",
   "metadata": {},
   "outputs": [],
   "source": [
    "A = pd.get_dummies(train['Pclass'])"
   ]
  },
  {
   "cell_type": "code",
   "execution_count": 10,
   "id": "01b59665",
   "metadata": {},
   "outputs": [],
   "source": [
    "B= pd.get_dummies(train['Embarked'])"
   ]
  },
  {
   "cell_type": "code",
   "execution_count": 11,
   "id": "2b1e373d",
   "metadata": {},
   "outputs": [],
   "source": [
    "train = pd.concat([train,A,B],axis=1)"
   ]
  },
  {
   "cell_type": "code",
   "execution_count": 16,
   "id": "d6100bd2",
   "metadata": {},
   "outputs": [],
   "source": [
    "train.drop(['Name'],axis=1,inplace=True)"
   ]
  },
  {
   "cell_type": "code",
   "execution_count": 17,
   "id": "a48a117f",
   "metadata": {
    "scrolled": true
   },
   "outputs": [
    {
     "data": {
      "text/html": [
       "<div>\n",
       "<style scoped>\n",
       "    .dataframe tbody tr th:only-of-type {\n",
       "        vertical-align: middle;\n",
       "    }\n",
       "\n",
       "    .dataframe tbody tr th {\n",
       "        vertical-align: top;\n",
       "    }\n",
       "\n",
       "    .dataframe thead th {\n",
       "        text-align: right;\n",
       "    }\n",
       "</style>\n",
       "<table border=\"1\" class=\"dataframe\">\n",
       "  <thead>\n",
       "    <tr style=\"text-align: right;\">\n",
       "      <th></th>\n",
       "      <th>Survived</th>\n",
       "      <th>Sex</th>\n",
       "      <th>Age</th>\n",
       "      <th>SibSp</th>\n",
       "      <th>Parch</th>\n",
       "      <th>1</th>\n",
       "      <th>2</th>\n",
       "      <th>3</th>\n",
       "      <th>C</th>\n",
       "      <th>Q</th>\n",
       "      <th>S</th>\n",
       "    </tr>\n",
       "  </thead>\n",
       "  <tbody>\n",
       "    <tr>\n",
       "      <th>0</th>\n",
       "      <td>0</td>\n",
       "      <td>1</td>\n",
       "      <td>22.0</td>\n",
       "      <td>1</td>\n",
       "      <td>0</td>\n",
       "      <td>0</td>\n",
       "      <td>0</td>\n",
       "      <td>1</td>\n",
       "      <td>0</td>\n",
       "      <td>0</td>\n",
       "      <td>1</td>\n",
       "    </tr>\n",
       "    <tr>\n",
       "      <th>1</th>\n",
       "      <td>1</td>\n",
       "      <td>0</td>\n",
       "      <td>38.0</td>\n",
       "      <td>1</td>\n",
       "      <td>0</td>\n",
       "      <td>1</td>\n",
       "      <td>0</td>\n",
       "      <td>0</td>\n",
       "      <td>1</td>\n",
       "      <td>0</td>\n",
       "      <td>0</td>\n",
       "    </tr>\n",
       "    <tr>\n",
       "      <th>2</th>\n",
       "      <td>1</td>\n",
       "      <td>0</td>\n",
       "      <td>26.0</td>\n",
       "      <td>0</td>\n",
       "      <td>0</td>\n",
       "      <td>0</td>\n",
       "      <td>0</td>\n",
       "      <td>1</td>\n",
       "      <td>0</td>\n",
       "      <td>0</td>\n",
       "      <td>1</td>\n",
       "    </tr>\n",
       "    <tr>\n",
       "      <th>3</th>\n",
       "      <td>1</td>\n",
       "      <td>0</td>\n",
       "      <td>35.0</td>\n",
       "      <td>1</td>\n",
       "      <td>0</td>\n",
       "      <td>1</td>\n",
       "      <td>0</td>\n",
       "      <td>0</td>\n",
       "      <td>0</td>\n",
       "      <td>0</td>\n",
       "      <td>1</td>\n",
       "    </tr>\n",
       "    <tr>\n",
       "      <th>4</th>\n",
       "      <td>0</td>\n",
       "      <td>1</td>\n",
       "      <td>35.0</td>\n",
       "      <td>0</td>\n",
       "      <td>0</td>\n",
       "      <td>0</td>\n",
       "      <td>0</td>\n",
       "      <td>1</td>\n",
       "      <td>0</td>\n",
       "      <td>0</td>\n",
       "      <td>1</td>\n",
       "    </tr>\n",
       "  </tbody>\n",
       "</table>\n",
       "</div>"
      ],
      "text/plain": [
       "   Survived  Sex   Age  SibSp  Parch  1  2  3  C  Q  S\n",
       "0         0    1  22.0      1      0  0  0  1  0  0  1\n",
       "1         1    0  38.0      1      0  1  0  0  1  0  0\n",
       "2         1    0  26.0      0      0  0  0  1  0  0  1\n",
       "3         1    0  35.0      1      0  1  0  0  0  0  1\n",
       "4         0    1  35.0      0      0  0  0  1  0  0  1"
      ]
     },
     "execution_count": 17,
     "metadata": {},
     "output_type": "execute_result"
    }
   ],
   "source": [
    "train.head()"
   ]
  },
  {
   "cell_type": "code",
   "execution_count": 107,
   "id": "4fac61f5",
   "metadata": {},
   "outputs": [
    {
     "data": {
      "text/plain": [
       "340"
      ]
     },
     "execution_count": 107,
     "metadata": {},
     "output_type": "execute_result"
    }
   ],
   "source": [
    "train['Survived'].sum()"
   ]
  },
  {
   "cell_type": "code",
   "execution_count": 151,
   "id": "ee9336f3",
   "metadata": {},
   "outputs": [],
   "source": [
    "x = train[['Age','SibSp','Parch',1,2,3,'C','Q','S','Sex']]\n",
    "x = np.c_[np.ones(x.shape[0]), x] "
   ]
  },
  {
   "cell_type": "code",
   "execution_count": 152,
   "id": "47fd0208",
   "metadata": {},
   "outputs": [
    {
     "data": {
      "text/plain": [
       "array([[ 1., 22.,  1., ...,  0.,  1.,  1.],\n",
       "       [ 1., 38.,  1., ...,  0.,  0.,  0.],\n",
       "       [ 1., 26.,  0., ...,  0.,  1.,  0.],\n",
       "       ...,\n",
       "       [ 1., 25.,  1., ...,  0.,  1.,  0.],\n",
       "       [ 1., 26.,  0., ...,  0.,  0.,  1.],\n",
       "       [ 1., 32.,  0., ...,  1.,  0.,  1.]])"
      ]
     },
     "execution_count": 152,
     "metadata": {},
     "output_type": "execute_result"
    }
   ],
   "source": [
    "x"
   ]
  },
  {
   "cell_type": "code",
   "execution_count": 153,
   "id": "e60916b1",
   "metadata": {},
   "outputs": [],
   "source": [
    "y = np.array(train['Survived']).reshape(len(train['Survived']),1)"
   ]
  },
  {
   "cell_type": "code",
   "execution_count": 231,
   "id": "3d6fdd07",
   "metadata": {},
   "outputs": [],
   "source": [
    "theta = np.random.randn(x.shape[1],1)"
   ]
  },
  {
   "cell_type": "code",
   "execution_count": 232,
   "id": "10be0cb0",
   "metadata": {},
   "outputs": [
    {
     "data": {
      "text/plain": [
       "array([[ 0.53007799],\n",
       "       [-1.10483147],\n",
       "       [-3.29607996],\n",
       "       [-0.20171644],\n",
       "       [-1.89358126],\n",
       "       [-0.56825182],\n",
       "       [ 0.25046434],\n",
       "       [-0.12436337],\n",
       "       [ 0.86120073],\n",
       "       [ 0.30208551],\n",
       "       [ 1.1528015 ]])"
      ]
     },
     "execution_count": 232,
     "metadata": {},
     "output_type": "execute_result"
    }
   ],
   "source": [
    "theta"
   ]
  },
  {
   "cell_type": "code",
   "execution_count": 233,
   "id": "8640e65e",
   "metadata": {},
   "outputs": [],
   "source": [
    "def sig(z):\n",
    "    return 1 / (1 + np.e**(-z))"
   ]
  },
  {
   "cell_type": "code",
   "execution_count": 234,
   "id": "cd802811",
   "metadata": {},
   "outputs": [],
   "source": [
    "def cost_function(X,y,theta):\n",
    "    # Computes the cost function for all the training samples\n",
    "    m = x.shape[0]\n",
    "    total_cost = -(1 / m) * np.sum(y * np.log(sig(x.dot(theta))) + (1 - y) * np.log(1 - sig(x.dot(theta))))\n",
    "    return total_cost\n"
   ]
  },
  {
   "cell_type": "code",
   "execution_count": 235,
   "id": "4bc8b7b6",
   "metadata": {},
   "outputs": [],
   "source": [
    "def gradient_descent (X,y,theta,learn_rate=0.01,iteration = 1000): #lr and itr have been given a default value\n",
    "    m = len(y) #length of vector y = number of trainign examples\n",
    "    # we will get a random theta in the function\n",
    "    cost_history = np.zeros(iteration) #this will store the cost after each iteration, starts with all zeros\n",
    "    theta_history = np.zeros((iteration,X.shape[1])) #each row stores the theta after one interation. x.shape[1] (number of columns in X) is the number of theta, may vary\n",
    "    \n",
    "    for i in range(iteration):\n",
    "        \n",
    "        h = sig(X.dot(theta)) # this is nothing but y= theta0 + theta1x1 + theta2x2.....\n",
    "        theta = theta - (1/m)*learn_rate*(np.dot(X.T,h-y)) # refer notebook this is simply theta derivation\n",
    "        theta_history[i,:] = theta.T #calls ith row and all : columns and updates theta\n",
    "        cost_history[i] = cost_function(X,y,theta) #calss ith row and updates cost\n",
    "        \n",
    "    return theta, cost_history, theta_history"
   ]
  },
  {
   "cell_type": "code",
   "execution_count": 236,
   "id": "86c1373b",
   "metadata": {},
   "outputs": [],
   "source": [
    "theta, cost_history, theta_history = gradient_descent(x,y,theta,learn_rate=0.001,iteration=1000)"
   ]
  },
  {
   "cell_type": "code",
   "execution_count": 237,
   "id": "abcc9195",
   "metadata": {},
   "outputs": [
    {
     "data": {
      "text/plain": [
       "array([[ 0.55663547],\n",
       "       [-0.02868539],\n",
       "       [-3.12497184],\n",
       "       [-0.07369549],\n",
       "       [-1.76720402],\n",
       "       [-0.53302373],\n",
       "       [ 0.11541649],\n",
       "       [-0.06349239],\n",
       "       [ 0.84787932],\n",
       "       [ 0.28109341],\n",
       "       [ 0.99065662]])"
      ]
     },
     "execution_count": 237,
     "metadata": {},
     "output_type": "execute_result"
    }
   ],
   "source": [
    "theta"
   ]
  },
  {
   "cell_type": "code",
   "execution_count": 238,
   "id": "149985d6",
   "metadata": {},
   "outputs": [
    {
     "data": {
      "text/plain": [
       "1.4380433296369084"
      ]
     },
     "execution_count": 238,
     "metadata": {},
     "output_type": "execute_result"
    }
   ],
   "source": [
    "cost_history[-1]"
   ]
  },
  {
   "cell_type": "code",
   "execution_count": 239,
   "id": "9328f3cf",
   "metadata": {},
   "outputs": [
    {
     "data": {
      "text/plain": [
       "[<matplotlib.lines.Line2D at 0x7f2041c14100>]"
      ]
     },
     "execution_count": 239,
     "metadata": {},
     "output_type": "execute_result"
    },
    {
     "data": {
      "image/png": "[encoded data removed]",
      "text/plain": [
       "<Figure size 432x288 with 1 Axes>"
      ]
     },
     "metadata": {
      "needs_background": "light"
     },
     "output_type": "display_data"
    }
   ],
   "source": [
    "plt.plot(cost_history)"
   ]
  },
  {
   "cell_type": "code",
   "execution_count": 240,
   "id": "258b811c",
   "metadata": {},
   "outputs": [],
   "source": [
    "final_prediction = sig(x.dot(theta))\n",
    "final_prediction = final_prediction.reshape(final_prediction.shape[0],1)\n",
    "final_prediction[final_prediction>=0.5]=1\n",
    "final_prediction[final_prediction<0.5]=0"
   ]
  },
  {
   "cell_type": "code",
   "execution_count": 241,
   "id": "cf90a893",
   "metadata": {},
   "outputs": [
    {
     "data": {
      "text/plain": [
       "(323,)"
      ]
     },
     "execution_count": 241,
     "metadata": {},
     "output_type": "execute_result"
    }
   ],
   "source": [
    "t= final_prediction-y \n",
    "t[t==0].shape"
   ]
  },
  {
   "cell_type": "code",
   "execution_count": null,
   "id": "64b04f32",
   "metadata": {},
   "outputs": [],
   "source": []
  },
  {
   "cell_type": "code",
   "execution_count": null,
   "id": "19927fd0",
   "metadata": {},
   "outputs": [],
   "source": []
  },
  {
   "cell_type": "code",
   "execution_count": null,
   "id": "a81a6917",
   "metadata": {},
   "outputs": [],
   "source": []
  },
  {
   "cell_type": "code",
   "execution_count": null,
   "id": "c0cee184",
   "metadata": {},
   "outputs": [],
   "source": []
  },
  {
   "cell_type": "code",
   "execution_count": null,
   "id": "569749d6",
   "metadata": {},
   "outputs": [],
   "source": []
  },
  {
   "cell_type": "code",
   "execution_count": null,
   "id": "8793a5db",
   "metadata": {},
   "outputs": [],
   "source": []
  },
  {
   "cell_type": "code",
   "execution_count": null,
   "id": "7a178268",
   "metadata": {},
   "outputs": [],
   "source": []
  },
  {
   "cell_type": "code",
   "execution_count": null,
   "id": "8bc7fcc9",
   "metadata": {},
   "outputs": [],
   "source": []
  },
  {
   "cell_type": "code",
   "execution_count": null,
   "id": "d8d4a242",
   "metadata": {},
   "outputs": [],
   "source": []
  },
  {
   "cell_type": "code",
   "execution_count": null,
   "id": "86eb36f2",
   "metadata": {},
   "outputs": [],
   "source": []
  },
  {
   "cell_type": "code",
   "execution_count": null,
   "id": "24ecc14c",
   "metadata": {},
   "outputs": [],
   "source": []
  },
  {
   "cell_type": "code",
   "execution_count": null,
   "id": "13db6f0e",
   "metadata": {},
   "outputs": [],
   "source": []
  }
 ],
 "metadata": {
  "kernelspec": {
   "display_name": "Python 3",
   "language": "python",
   "name": "python3"
  },
  "language_info": {
   "codemirror_mode": {
    "name": "ipython",
    "version": 3
   },
   "file_extension": ".py",
   "mimetype": "text/x-python",
   "name": "python",
   "nbconvert_exporter": "python",
   "pygments_lexer": "ipython3",
   "version": "3.8.8"
  }
 },
 "nbformat": 4,
 "nbformat_minor": 5
}
