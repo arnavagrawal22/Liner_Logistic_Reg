{
 "cells": [
  {
   "cell_type": "code",
   "execution_count": 1,
   "id": "5f9fc985",
   "metadata": {},
   "outputs": [],
   "source": [
    "import numpy as np\n",
    "import pandas as pd\n",
    "import matplotlib.pyplot as plt\n",
    "import seaborn as sns\n",
    "%matplotlib inline"
   ]
  },
  {
   "cell_type": "code",
   "execution_count": 2,
   "id": "5f45cfe1",
   "metadata": {},
   "outputs": [],
   "source": [
    "train = pd.read_csv('titanic-train.csv')"
   ]
  },
  {
   "cell_type": "code",
   "execution_count": 3,
   "id": "bccd6f88",
   "metadata": {},
   "outputs": [],
   "source": [
    "train.drop(\"Cabin\",inplace=True,axis=1)"
   ]
  },
  {
   "cell_type": "code",
   "execution_count": 4,
   "id": "e6546e8f",
   "metadata": {},
   "outputs": [],
   "source": [
    "def add_age(cols):\n",
    "    Age = cols[0]\n",
    "    Pclass = cols[1]\n",
    "    if pd.isnull(Age):\n",
    "        return int(train[train[\"Pclass\"] == Pclass][\"Age\"].mean())\n",
    "    else:\n",
    "        return Age"
   ]
  },
  {
   "cell_type": "code",
   "execution_count": 5,
   "id": "397011f1",
   "metadata": {},
   "outputs": [],
   "source": [
    "train['Age']= train[[\"Age\", \"Pclass\"]].apply(add_age,axis=1)"
   ]
  },
  {
   "cell_type": "code",
   "execution_count": 6,
   "id": "b71f6f19",
   "metadata": {},
   "outputs": [],
   "source": [
    "train.dropna(inplace=True)"
   ]
  },
  {
   "cell_type": "code",
   "execution_count": 7,
   "id": "d634cb8f",
   "metadata": {},
   "outputs": [
    {
     "name": "stdout",
     "output_type": "stream",
     "text": [
      "<class 'pandas.core.frame.DataFrame'>\n",
      "Int64Index: 889 entries, 0 to 890\n",
      "Data columns (total 11 columns):\n",
      " #   Column       Non-Null Count  Dtype  \n",
      "---  ------       --------------  -----  \n",
      " 0   PassengerId  889 non-null    int64  \n",
      " 1   Survived     889 non-null    int64  \n",
      " 2   Pclass       889 non-null    int64  \n",
      " 3   Name         889 non-null    object \n",
      " 4   Sex          889 non-null    object \n",
      " 5   Age          889 non-null    float64\n",
      " 6   SibSp        889 non-null    int64  \n",
      " 7   Parch        889 non-null    int64  \n",
      " 8   Ticket       889 non-null    object \n",
      " 9   Fare         889 non-null    float64\n",
      " 10  Embarked     889 non-null    object \n",
      "dtypes: float64(2), int64(5), object(4)\n",
      "memory usage: 83.3+ KB\n"
     ]
    }
   ],
   "source": [
    "train.info()"
   ]
  },
  {
   "cell_type": "code",
   "execution_count": 8,
   "id": "08931dfb",
   "metadata": {},
   "outputs": [],
   "source": [
    "train['Sex'] = pd.get_dummies(train['Sex'],drop_first=True)"
   ]
  },
  {
   "cell_type": "code",
   "execution_count": 9,
   "id": "5372da0b",
   "metadata": {},
   "outputs": [],
   "source": [
    "A = pd.get_dummies(train['Pclass'])"
   ]
  },
  {
   "cell_type": "code",
   "execution_count": 10,
   "id": "44fa77c7",
   "metadata": {},
   "outputs": [],
   "source": [
    "B= pd.get_dummies(train['Embarked'])"
   ]
  },
  {
   "cell_type": "code",
   "execution_count": 11,
   "id": "bf8b5e3f",
   "metadata": {},
   "outputs": [],
   "source": [
    "train = pd.concat([train,A,B],axis=1)"
   ]
  },
  {
   "cell_type": "code",
   "execution_count": 16,
   "id": "53d6f9cb",
   "metadata": {},
   "outputs": [],
   "source": [
    "train.drop(['Name'],axis=1,inplace=True)"
   ]
  },
  {
   "cell_type": "code",
   "execution_count": 17,
   "id": "ea68ec26",
   "metadata": {
    "scrolled": false
   },
   "outputs": [
    {
     "data": {
      "text/html": [
       "<div>\n",
       "<style scoped>\n",
       "    .dataframe tbody tr th:only-of-type {\n",
       "        vertical-align: middle;\n",
       "    }\n",
       "\n",
       "    .dataframe tbody tr th {\n",
       "        vertical-align: top;\n",
       "    }\n",
       "\n",
       "    .dataframe thead th {\n",
       "        text-align: right;\n",
       "    }\n",
       "</style>\n",
       "<table border=\"1\" class=\"dataframe\">\n",
       "  <thead>\n",
       "    <tr style=\"text-align: right;\">\n",
       "      <th></th>\n",
       "      <th>Survived</th>\n",
       "      <th>Sex</th>\n",
       "      <th>Age</th>\n",
       "      <th>SibSp</th>\n",
       "      <th>Parch</th>\n",
       "      <th>1</th>\n",
       "      <th>2</th>\n",
       "      <th>3</th>\n",
       "      <th>C</th>\n",
       "      <th>Q</th>\n",
       "      <th>S</th>\n",
       "    </tr>\n",
       "  </thead>\n",
       "  <tbody>\n",
       "    <tr>\n",
       "      <th>0</th>\n",
       "      <td>0</td>\n",
       "      <td>1</td>\n",
       "      <td>22.0</td>\n",
       "      <td>1</td>\n",
       "      <td>0</td>\n",
       "      <td>0</td>\n",
       "      <td>0</td>\n",
       "      <td>1</td>\n",
       "      <td>0</td>\n",
       "      <td>0</td>\n",
       "      <td>1</td>\n",
       "    </tr>\n",
       "    <tr>\n",
       "      <th>1</th>\n",
       "      <td>1</td>\n",
       "      <td>0</td>\n",
       "      <td>38.0</td>\n",
       "      <td>1</td>\n",
       "      <td>0</td>\n",
       "      <td>1</td>\n",
       "      <td>0</td>\n",
       "      <td>0</td>\n",
       "      <td>1</td>\n",
       "      <td>0</td>\n",
       "      <td>0</td>\n",
       "    </tr>\n",
       "    <tr>\n",
       "      <th>2</th>\n",
       "      <td>1</td>\n",
       "      <td>0</td>\n",
       "      <td>26.0</td>\n",
       "      <td>0</td>\n",
       "      <td>0</td>\n",
       "      <td>0</td>\n",
       "      <td>0</td>\n",
       "      <td>1</td>\n",
       "      <td>0</td>\n",
       "      <td>0</td>\n",
       "      <td>1</td>\n",
       "    </tr>\n",
       "    <tr>\n",
       "      <th>3</th>\n",
       "      <td>1</td>\n",
       "      <td>0</td>\n",
       "      <td>35.0</td>\n",
       "      <td>1</td>\n",
       "      <td>0</td>\n",
       "      <td>1</td>\n",
       "      <td>0</td>\n",
       "      <td>0</td>\n",
       "      <td>0</td>\n",
       "      <td>0</td>\n",
       "      <td>1</td>\n",
       "    </tr>\n",
       "    <tr>\n",
       "      <th>4</th>\n",
       "      <td>0</td>\n",
       "      <td>1</td>\n",
       "      <td>35.0</td>\n",
       "      <td>0</td>\n",
       "      <td>0</td>\n",
       "      <td>0</td>\n",
       "      <td>0</td>\n",
       "      <td>1</td>\n",
       "      <td>0</td>\n",
       "      <td>0</td>\n",
       "      <td>1</td>\n",
       "    </tr>\n",
       "  </tbody>\n",
       "</table>\n",
       "</div>"
      ],
      "text/plain": [
       "   Survived  Sex   Age  SibSp  Parch  1  2  3  C  Q  S\n",
       "0         0    1  22.0      1      0  0  0  1  0  0  1\n",
       "1         1    0  38.0      1      0  1  0  0  1  0  0\n",
       "2         1    0  26.0      0      0  0  0  1  0  0  1\n",
       "3         1    0  35.0      1      0  1  0  0  0  0  1\n",
       "4         0    1  35.0      0      0  0  0  1  0  0  1"
      ]
     },
     "execution_count": 17,
     "metadata": {},
     "output_type": "execute_result"
    }
   ],
   "source": [
    "train.head()"
   ]
  },
  {
   "cell_type": "code",
   "execution_count": 421,
   "id": "a5021bab",
   "metadata": {},
   "outputs": [],
   "source": [
    "train.drop([1,'C'],axis=1,inplace=True)"
   ]
  },
  {
   "cell_type": "code",
   "execution_count": 422,
   "id": "c0587f62",
   "metadata": {},
   "outputs": [
    {
     "data": {
      "text/plain": [
       "340"
      ]
     },
     "execution_count": 422,
     "metadata": {},
     "output_type": "execute_result"
    }
   ],
   "source": [
    "train['Survived'].sum()"
   ]
  },
  {
   "cell_type": "code",
   "execution_count": 424,
   "id": "2e84f813",
   "metadata": {},
   "outputs": [],
   "source": [
    "x = train[['Age','SibSp','Parch',2,3,'Q','S','Sex']]\n",
    "x = np.c_[np.ones(x.shape[0]), x] "
   ]
  },
  {
   "cell_type": "code",
   "execution_count": 425,
   "id": "75a27037",
   "metadata": {},
   "outputs": [
    {
     "data": {
      "text/plain": [
       "array([[ 1., 22.,  1., ...,  0.,  1.,  1.],\n",
       "       [ 1., 38.,  1., ...,  0.,  0.,  0.],\n",
       "       [ 1., 26.,  0., ...,  0.,  1.,  0.],\n",
       "       ...,\n",
       "       [ 1., 25.,  1., ...,  0.,  1.,  0.],\n",
       "       [ 1., 26.,  0., ...,  0.,  0.,  1.],\n",
       "       [ 1., 32.,  0., ...,  1.,  0.,  1.]])"
      ]
     },
     "execution_count": 425,
     "metadata": {},
     "output_type": "execute_result"
    }
   ],
   "source": [
    "x"
   ]
  },
  {
   "cell_type": "code",
   "execution_count": 426,
   "id": "87aac148",
   "metadata": {},
   "outputs": [],
   "source": [
    "y = np.array(train['Survived']).reshape(len(train['Survived']),1)"
   ]
  },
  {
   "cell_type": "code",
   "execution_count": 449,
   "id": "8ad85390",
   "metadata": {},
   "outputs": [],
   "source": [
    "theta = np.random.randn(x.shape[1],1)\n"
   ]
  },
  {
   "cell_type": "code",
   "execution_count": 450,
   "id": "ccdff054",
   "metadata": {},
   "outputs": [
    {
     "data": {
      "text/plain": [
       "array([[-2.10006503],\n",
       "       [ 0.59844187],\n",
       "       [ 0.07838794],\n",
       "       [ 0.30463202],\n",
       "       [-0.99361344],\n",
       "       [-0.807963  ],\n",
       "       [-0.33736605],\n",
       "       [ 2.46757253],\n",
       "       [-1.13755919]])"
      ]
     },
     "execution_count": 450,
     "metadata": {},
     "output_type": "execute_result"
    }
   ],
   "source": [
    "theta"
   ]
  },
  {
   "cell_type": "code",
   "execution_count": 451,
   "id": "308a5b38",
   "metadata": {},
   "outputs": [],
   "source": [
    "def sig(z):\n",
    "    \n",
    "    return 1 / (1 + np.e**(-z))"
   ]
  },
  {
   "cell_type": "code",
   "execution_count": 452,
   "id": "d28266d2",
   "metadata": {},
   "outputs": [],
   "source": [
    "def cost_function(X,y,theta):\n",
    "    # Computes the cost function for all the training samples\n",
    "    m = x.shape[0]\n",
    "    total_cost = -(1 / m) * np.sum(y * np.log(sig(x.dot(theta))) + (1 - y) * np.log(1 - sig(x.dot(theta))))\n",
    "    return total_cost\n"
   ]
  },
  {
   "cell_type": "code",
   "execution_count": 453,
   "id": "8f0b8172",
   "metadata": {},
   "outputs": [],
   "source": [
    "def gradient_descent (X,y,theta,learn_rate=0.01,iteration = 1000): #lr and itr have been given a default value\n",
    "    m = len(y) #length of vector y = number of trainign examples\n",
    "    # we will get a random theta in the function\n",
    "    cost_history = np.zeros(iteration) #this will store the cost after each iteration, starts with all zeros\n",
    "    theta_history = np.zeros((iteration,X.shape[1])) #each row stores the theta after one interation. x.shape[1] (number of columns in X) is the number of theta, may vary\n",
    "    \n",
    "    for i in range(iteration):\n",
    "        \n",
    "        h = sig(X.dot(theta)) # this is nothing but y= theta0 + theta1x1 + theta2x2.....\n",
    "        theta = theta - (1/m)*learn_rate*(np.dot(X.T,h-y)) # refer notebook this is simply theta derivation\n",
    "        theta_history[i,:] = theta.T #calls ith row and all : columns and updates theta\n",
    "        cost_history[i] = cost_function(X,y,theta) #calss ith row and updates cost\n",
    "        \n",
    "    return theta, cost_history, theta_history"
   ]
  },
  {
   "cell_type": "code",
   "execution_count": 454,
   "id": "b247bacb",
   "metadata": {},
   "outputs": [
    {
     "name": "stderr",
     "output_type": "stream",
     "text": [
      "<ipython-input-452-914f4c48b84c>:4: RuntimeWarning: divide by zero encountered in log\n",
      "  total_cost = -(1 / m) * np.sum(y * np.log(sig(x.dot(theta))) + (1 - y) * np.log(1 - sig(x.dot(theta))))\n",
      "<ipython-input-452-914f4c48b84c>:4: RuntimeWarning: invalid value encountered in multiply\n",
      "  total_cost = -(1 / m) * np.sum(y * np.log(sig(x.dot(theta))) + (1 - y) * np.log(1 - sig(x.dot(theta))))\n"
     ]
    }
   ],
   "source": [
    "theta, cost_history, theta_history = gradient_descent(x,y,theta,learn_rate=0.001,iteration=1000)"
   ]
  },
  {
   "cell_type": "code",
   "execution_count": 455,
   "id": "e73b927b",
   "metadata": {
    "scrolled": true
   },
   "outputs": [
    {
     "data": {
      "text/plain": [
       "array([[-2.07665009],\n",
       "       [ 0.02649334],\n",
       "       [ 0.03168484],\n",
       "       [ 0.28728968],\n",
       "       [-0.97422907],\n",
       "       [-0.83898034],\n",
       "       [-0.31011346],\n",
       "       [ 2.38677558],\n",
       "       [-1.20397102]])"
      ]
     },
     "execution_count": 455,
     "metadata": {},
     "output_type": "execute_result"
    }
   ],
   "source": [
    "theta"
   ]
  },
  {
   "cell_type": "code",
   "execution_count": 456,
   "id": "4f1e2f08",
   "metadata": {},
   "outputs": [
    {
     "data": {
      "text/plain": [
       "0.7266121226960889"
      ]
     },
     "execution_count": 456,
     "metadata": {},
     "output_type": "execute_result"
    }
   ],
   "source": [
    "cost_history[-1]"
   ]
  },
  {
   "cell_type": "code",
   "execution_count": 457,
   "id": "92f67e4a",
   "metadata": {},
   "outputs": [
    {
     "data": {
      "text/plain": [
       "[<matplotlib.lines.Line2D at 0x7f204229adc0>]"
      ]
     },
     "execution_count": 457,
     "metadata": {},
     "output_type": "execute_result"
    },
    {
     "data": {
      "image/png": "[encoded data removed]",
      "text/plain": [
       "<Figure size 432x288 with 1 Axes>"
      ]
     },
     "metadata": {
      "needs_background": "light"
     },
     "output_type": "display_data"
    }
   ],
   "source": [
    "plt.plot(cost_history)"
   ]
  },
  {
   "cell_type": "code",
   "execution_count": 458,
   "id": "d88eb978",
   "metadata": {},
   "outputs": [],
   "source": [
    "final_prediction = sig(x.dot(theta))\n",
    "final_prediction = final_prediction.reshape(final_prediction.shape[0],1)\n",
    "final_prediction[final_prediction>=0.6]=1\n",
    "final_prediction[final_prediction<0.6]=0"
   ]
  },
  {
   "cell_type": "code",
   "execution_count": 459,
   "id": "11ab7bcc",
   "metadata": {},
   "outputs": [
    {
     "data": {
      "text/plain": [
       "65.80427446569179"
      ]
     },
     "execution_count": 459,
     "metadata": {},
     "output_type": "execute_result"
    }
   ],
   "source": [
    "t= final_prediction-y \n",
    "t[t==0].shape[0]*100/889"
   ]
  },
  {
   "cell_type": "code",
   "execution_count": null,
   "id": "46c9cc81",
   "metadata": {},
   "outputs": [],
   "source": []
  },
  {
   "cell_type": "code",
   "execution_count": null,
   "id": "1b40da34",
   "metadata": {},
   "outputs": [],
   "source": []
  },
  {
   "cell_type": "code",
   "execution_count": null,
   "id": "65ca5e0f",
   "metadata": {},
   "outputs": [],
   "source": []
  },
  {
   "cell_type": "code",
   "execution_count": null,
   "id": "64c6644d",
   "metadata": {},
   "outputs": [],
   "source": []
  },
  {
   "cell_type": "code",
   "execution_count": null,
   "id": "b61844d0",
   "metadata": {},
   "outputs": [],
   "source": []
  },
  {
   "cell_type": "code",
   "execution_count": null,
   "id": "4aa3f4f0",
   "metadata": {},
   "outputs": [],
   "source": []
  },
  {
   "cell_type": "code",
   "execution_count": null,
   "id": "75ef641a",
   "metadata": {},
   "outputs": [],
   "source": []
  },
  {
   "cell_type": "code",
   "execution_count": null,
   "id": "62c21d85",
   "metadata": {},
   "outputs": [],
   "source": []
  },
  {
   "cell_type": "code",
   "execution_count": null,
   "id": "2c09a6f8",
   "metadata": {},
   "outputs": [],
   "source": []
  },
  {
   "cell_type": "code",
   "execution_count": null,
   "id": "3f131bff",
   "metadata": {},
   "outputs": [],
   "source": []
  },
  {
   "cell_type": "code",
   "execution_count": null,
   "id": "b180732d",
   "metadata": {},
   "outputs": [],
   "source": []
  },
  {
   "cell_type": "code",
   "execution_count": null,
   "id": "5a5013ea",
   "metadata": {},
   "outputs": [],
   "source": []
  }
 ],
 "metadata": {
  "kernelspec": {
   "display_name": "Python 3",
   "language": "python",
   "name": "python3"
  },
  "language_info": {
   "codemirror_mode": {
    "name": "ipython",
    "version": 3
   },
   "file_extension": ".py",
   "mimetype": "text/x-python",
   "name": "python",
   "nbconvert_exporter": "python",
   "pygments_lexer": "ipython3",
   "version": "3.8.8"
  }
 },
 "nbformat": 4,
 "nbformat_minor": 5
}
